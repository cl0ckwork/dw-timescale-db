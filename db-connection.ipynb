{
 "cells": [
  {
   "cell_type": "code",
   "execution_count": 6,
   "metadata": {},
   "outputs": [],
   "source": [
    "%load_ext autoreload\n",
    "%autoreload 2"
   ]
  },
  {
   "cell_type": "code",
   "execution_count": 8,
   "metadata": {},
   "outputs": [],
   "source": [
    "from lib.db import local_conn, remote_conn # custom connection \n",
    "conn = remote_conn if remote_conn else local_conn\n",
    "if not conn:\n",
    "    print('You have no database connections, is AWS running (remote)? is Docker running (local)?')"
   ]
  },
  {
   "cell_type": "code",
   "execution_count": 9,
   "metadata": {},
   "outputs": [
    {
     "name": "stdout",
     "output_type": "stream",
     "text": [
      "('plpgsql', 10, 11, False, '1.0', None, None)\n",
      "('timescaledb', 10, 2200, False, '1.0.0', [16880, 16878, 16897, 16912, 16910, 16930, 16928, 16946, 16944, 16960, 16976, 16978, 16994, 16996, 17014, 17105, 17108], ['', '', '', '', '', '', '', '', '', '', '', '', '', 'WHERE id >= 1000', \"WHERE key='exported_uuid'\", '', ''])\n"
     ]
    }
   ],
   "source": [
    "# create a cursor to run a query against the database\n",
    "cur = conn.cursor()\n",
    "\n",
    "#Run a test query against an existing table to test our cursor/connection\n",
    "cur.execute('''\n",
    "SELECT * from pg_extension;\n",
    "''')\n",
    "\n",
    "# get results, iterate through, and print.\n",
    "results = cur.fetchall()\n",
    "for result in results:\n",
    "    print(result)\n",
    "\n",
    "# Close communication with the database.\n",
    "cur.close()\n",
    "conn.close()"
   ]
  },
  {
   "cell_type": "code",
   "execution_count": null,
   "metadata": {},
   "outputs": [],
   "source": []
  }
 ],
 "metadata": {
  "kernelspec": {
   "display_name": "Python 3",
   "language": "python",
   "name": "python3"
  },
  "language_info": {
   "codemirror_mode": {
    "name": "ipython",
    "version": 3
   },
   "file_extension": ".py",
   "mimetype": "text/x-python",
   "name": "python",
   "nbconvert_exporter": "python",
   "pygments_lexer": "ipython3",
   "version": "3.6.4"
  }
 },
 "nbformat": 4,
 "nbformat_minor": 1
}
