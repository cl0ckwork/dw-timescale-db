{
 "cells": [
  {
   "cell_type": "code",
   "execution_count": 1,
   "metadata": {},
   "outputs": [],
   "source": [
    "%load_ext autoreload\n",
    "%autoreload 2\n",
    "import pandas as pd"
   ]
  },
  {
   "cell_type": "code",
   "execution_count": 2,
   "metadata": {},
   "outputs": [
    {
     "name": "stdout",
     "output_type": "stream",
     "text": [
      "Unable to connect to remote (AWS) timescaleDB OperationalError('timeout expired\\n',)\n"
     ]
    }
   ],
   "source": [
    "from lib.db import local_conn, remote_conn # custom connection \n",
    "conn = remote_conn if remote_conn else local_conn\n",
    "if not conn:\n",
    "    print('You have no database connections, is AWS running (remote)? is Docker running (local)?')"
   ]
  },
  {
   "cell_type": "code",
   "execution_count": 16,
   "metadata": {},
   "outputs": [
    {
     "name": "stdout",
     "output_type": "stream",
     "text": [
      "relation \"twitter\" does not exist\n",
      "LINE 3: FROM twitter;\n",
      "             ^\n",
      "\n"
     ]
    }
   ],
   "source": [
    "# create a cursor to run a query against the database\n",
    "if conn:\n",
    "    try:\n",
    "        cur = conn.cursor()\n",
    "\n",
    "        #Run a test query against an existing table to test our cursor/connection\n",
    "        cur.execute(\"\"\"\n",
    "SELECT count(*)\n",
    "FROM twitter;\n",
    "\"\"\")\n",
    "\n",
    "        # get results, iterate through, and print.\n",
    "        results = cur.fetchall()\n",
    "        for res in results:\n",
    "            print(res)\n",
    "#         df = pd.DataFrame(list(results))\n",
    "#         print(df.head())\n",
    "\n",
    "        # Close communication with the database.\n",
    "        cur.close()\n",
    "    except Exception as ex:\n",
    "        print(ex)\n",
    "        conn.rollback()\n",
    "    \n",
    "else:\n",
    "    print('no cursor')"
   ]
  },
  {
   "cell_type": "code",
   "execution_count": null,
   "metadata": {},
   "outputs": [],
   "source": [
    "conn.close()"
   ]
  }
 ],
 "metadata": {
  "kernelspec": {
   "display_name": "Python 3",
   "language": "python",
   "name": "python3"
  },
  "language_info": {
   "codemirror_mode": {
    "name": "ipython",
    "version": 3
   },
   "file_extension": ".py",
   "mimetype": "text/x-python",
   "name": "python",
   "nbconvert_exporter": "python",
   "pygments_lexer": "ipython3",
   "version": "3.6.4"
  }
 },
 "nbformat": 4,
 "nbformat_minor": 1
}
