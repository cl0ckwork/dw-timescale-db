{
 "cells": [
  {
   "cell_type": "code",
   "execution_count": 1,
   "metadata": {},
   "outputs": [],
   "source": [
    "from lib.db import conn # custom connection "
   ]
  },
  {
   "cell_type": "code",
   "execution_count": 2,
   "metadata": {},
   "outputs": [
    {
     "name": "stdout",
     "output_type": "stream",
     "text": [
      "('plpgsql', 10, 11, False, '1.0', None, None)\n",
      "('timescaledb', 10, 2200, False, '1.0.0', [16880, 16878, 16897, 16912, 16910, 16931, 16928, 16947, 16945, 16961, 16977, 16979, 16995, 16997, 17015, 17106, 17109], ['', '', '', '', '', '', '', '', '', '', '', '', '', 'WHERE id >= 1000', \"WHERE key='exported_uuid'\", '', ''])\n"
     ]
    }
   ],
   "source": [
    "# create a cursor to run a query against the database\n",
    "cur = conn.cursor()\n",
    "\n",
    "#Run a test query against an existing table to test our cursor/connection\n",
    "cur.execute('''\n",
    "SELECT * from pg_extension;\n",
    "''')\n",
    "\n",
    "# get results, iterate through, and print.\n",
    "results = cur.fetchall()\n",
    "for result in results:\n",
    "    print(result)\n",
    "\n",
    "# Close communication with the database.\n",
    "cur.close()\n",
    "conn.close()"
   ]
  },
  {
   "cell_type": "code",
   "execution_count": null,
   "metadata": {},
   "outputs": [],
   "source": []
  }
 ],
 "metadata": {
  "kernelspec": {
   "display_name": "Python 3",
   "language": "python",
   "name": "python3"
  },
  "language_info": {
   "codemirror_mode": {
    "name": "ipython",
    "version": 3
   },
   "file_extension": ".py",
   "mimetype": "text/x-python",
   "name": "python",
   "nbconvert_exporter": "python",
   "pygments_lexer": "ipython3",
   "version": "3.6.4"
  }
 },
 "nbformat": 4,
 "nbformat_minor": 1
}
